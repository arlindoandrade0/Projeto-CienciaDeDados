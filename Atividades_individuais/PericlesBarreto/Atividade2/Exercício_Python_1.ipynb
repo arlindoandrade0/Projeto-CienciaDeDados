{
  "cells": [
    {
      "cell_type": "markdown",
      "metadata": {
        "id": "f6oYv9LEcR8T"
      },
      "source": [
        "**Exercício 1 - Aquecimento de Python para Ciência de Dados**"
      ]
    },
    {
      "cell_type": "markdown",
      "metadata": {
        "id": "v4GVV_w1cYEY"
      },
      "source": [
        "1. Imprima \"Hello, World!\" no console."
      ]
    },
    {
      "cell_type": "code",
      "execution_count": 2,
      "metadata": {
        "id": "dJ12k9hPcNAg"
      },
      "outputs": [
        {
          "name": "stdout",
          "output_type": "stream",
          "text": [
            "Hello, Word!\n"
          ]
        }
      ],
      "source": [
        "print(\"Hello, Word!\")"
      ]
    },
    {
      "cell_type": "markdown",
      "metadata": {
        "id": "ADK7MX25ciYu"
      },
      "source": [
        "2. Crie uma variável x com valor 10 e imprima seu valor."
      ]
    },
    {
      "cell_type": "code",
      "execution_count": 3,
      "metadata": {
        "id": "kk5h1v7ocqel"
      },
      "outputs": [
        {
          "name": "stdout",
          "output_type": "stream",
          "text": [
            "10\n"
          ]
        }
      ],
      "source": [
        "x = 10\n",
        "print(x)"
      ]
    },
    {
      "cell_type": "markdown",
      "metadata": {
        "id": "bKry1Lukcq6l"
      },
      "source": [
        "3. Some dois números e exiba o resultado."
      ]
    },
    {
      "cell_type": "code",
      "execution_count": 4,
      "metadata": {
        "id": "S6IyQT4Lc2vf"
      },
      "outputs": [
        {
          "name": "stdout",
          "output_type": "stream",
          "text": [
            "30\n"
          ]
        }
      ],
      "source": [
        "a = 10\n",
        "b = 20\n",
        "print(a+b)"
      ]
    },
    {
      "cell_type": "code",
      "execution_count": null,
      "metadata": {},
      "outputs": [],
      "source": []
    },
    {
      "cell_type": "markdown",
      "metadata": {
        "id": "6BG1PN9Qc3VA"
      },
      "source": [
        "4. Verifique se um número é par ou ímpar.\n"
      ]
    },
    {
      "cell_type": "code",
      "execution_count": 6,
      "metadata": {
        "id": "K6NLPZoRc7ov"
      },
      "outputs": [
        {
          "name": "stdout",
          "output_type": "stream",
          "text": [
            "é par\n"
          ]
        }
      ],
      "source": [
        "n = int(input())\n",
        "if n % 2 != 0:\n",
        "    print('não é par')\n",
        "else:\n",
        "    print('é par')"
      ]
    },
    {
      "cell_type": "markdown",
      "metadata": {
        "id": "5dKg-xpvc4xs"
      },
      "source": [
        "5. Crie uma função que receba dois números e retorne a soma deles."
      ]
    },
    {
      "cell_type": "code",
      "execution_count": 13,
      "metadata": {
        "id": "iv1-9Zytc4S3"
      },
      "outputs": [
        {
          "name": "stdout",
          "output_type": "stream",
          "text": [
            "2\n"
          ]
        }
      ],
      "source": [
        "a = int(input())\n",
        "b = int(input())\n",
        "\n",
        "print(a+b)"
      ]
    },
    {
      "cell_type": "markdown",
      "metadata": {
        "id": "zsdBZtyjc_62"
      },
      "source": [
        "6. Crie uma lista com os números de 1 a 5 e imprima-a.\n"
      ]
    },
    {
      "cell_type": "code",
      "execution_count": 25,
      "metadata": {
        "id": "xGgkwH7jdCh-"
      },
      "outputs": [
        {
          "name": "stdout",
          "output_type": "stream",
          "text": [
            "[1, 2, 3, 4, 5]\n"
          ]
        }
      ],
      "source": [
        "list = [1,2,3,4,5]\n",
        "print(list)"
      ]
    },
    {
      "cell_type": "markdown",
      "metadata": {
        "id": "snUAe4qddFsm"
      },
      "source": [
        "7. Adicione o número 6 à lista criada na questão anterior.\n"
      ]
    },
    {
      "cell_type": "code",
      "execution_count": 26,
      "metadata": {
        "id": "QVpSgy7FdGk9"
      },
      "outputs": [
        {
          "name": "stdout",
          "output_type": "stream",
          "text": [
            "[1, 2, 3, 4, 5, 6]\n"
          ]
        }
      ],
      "source": [
        "list.append(6)\n",
        "print(list)"
      ]
    },
    {
      "cell_type": "markdown",
      "metadata": {
        "id": "4HT4BfD1dI8f"
      },
      "source": [
        "8. Remova o número 3 da lista."
      ]
    },
    {
      "cell_type": "code",
      "execution_count": 27,
      "metadata": {
        "id": "QCCxAurPdKjB"
      },
      "outputs": [
        {
          "name": "stdout",
          "output_type": "stream",
          "text": [
            "[1, 2, 4, 5, 6]\n"
          ]
        }
      ],
      "source": [
        "list.remove(3)\n",
        "print(list)"
      ]
    },
    {
      "cell_type": "markdown",
      "metadata": {
        "id": "RyI_EEltdMZt"
      },
      "source": [
        "9. Acesse o terceiro elemento da lista."
      ]
    },
    {
      "cell_type": "code",
      "execution_count": 24,
      "metadata": {
        "id": "HIkSUt_EdOSD"
      },
      "outputs": [
        {
          "data": {
            "text/plain": [
              "1"
            ]
          },
          "execution_count": 24,
          "metadata": {},
          "output_type": "execute_result"
        }
      ],
      "source": [
        "list.index(2)"
      ]
    },
    {
      "cell_type": "code",
      "execution_count": null,
      "metadata": {},
      "outputs": [],
      "source": []
    },
    {
      "cell_type": "markdown",
      "metadata": {
        "id": "yQjJYNSsdQUI"
      },
      "source": [
        "10. Imprima o tamanho da lista."
      ]
    },
    {
      "cell_type": "code",
      "execution_count": 28,
      "metadata": {
        "id": "Nz1jOedbdTR-"
      },
      "outputs": [
        {
          "name": "stdout",
          "output_type": "stream",
          "text": [
            "5\n"
          ]
        }
      ],
      "source": [
        "tamanho = len(list)\n",
        "print(tamanho)"
      ]
    },
    {
      "cell_type": "markdown",
      "metadata": {
        "id": "2gm3RaRKdyCg"
      },
      "source": [
        "11. Crie um dicionário com informações de um carro (marca, modelo, ano)."
      ]
    },
    {
      "cell_type": "code",
      "execution_count": 4,
      "metadata": {
        "id": "gL_Svemid1kG"
      },
      "outputs": [
        {
          "name": "stdout",
          "output_type": "stream",
          "text": [
            "{'marca': 'toyota', 'modelo': 'corolla', 'ano': 2015}\n"
          ]
        }
      ],
      "source": [
        "carro = {'marca':\"toyota\", 'modelo':\"corolla\", 'ano':2015}\n",
        "print(carro)"
      ]
    },
    {
      "cell_type": "markdown",
      "metadata": {
        "id": "ng6tNEYtd0hE"
      },
      "source": [
        "12. Acesse o valor associado à chave \"marca\" no dicionário."
      ]
    },
    {
      "cell_type": "code",
      "execution_count": 32,
      "metadata": {
        "id": "VPDbrV6Ad0Pn"
      },
      "outputs": [
        {
          "name": "stdout",
          "output_type": "stream",
          "text": [
            "toyota\n"
          ]
        }
      ],
      "source": [
        "print(carro[\"marca\"])"
      ]
    },
    {
      "cell_type": "markdown",
      "metadata": {
        "id": "Ov93hI7Td7c9"
      },
      "source": [
        "13. Adicione uma nova chave \"cor\" com valor \"preto\" ao dicionário."
      ]
    },
    {
      "cell_type": "code",
      "execution_count": 8,
      "metadata": {
        "id": "TrQLLfpid69U"
      },
      "outputs": [
        {
          "name": "stdout",
          "output_type": "stream",
          "text": [
            "{'marca': 'toyota', 'modelo': 'corolla', 'ano': 2015, 'cor': 'preto'}\n"
          ]
        }
      ],
      "source": [
        "carro['cor'] = 'preto'\n",
        "print(carro)"
      ]
    },
    {
      "cell_type": "markdown",
      "metadata": {
        "id": "b_5cOma2d9LP"
      },
      "source": [
        "14. Verifique se a chave \"modelo\" existe no dicionário.\n"
      ]
    },
    {
      "cell_type": "code",
      "execution_count": 9,
      "metadata": {
        "id": "DUMaXPQYd8bM"
      },
      "outputs": [
        {
          "name": "stdout",
          "output_type": "stream",
          "text": [
            "A chave 'cor' existe no dicionário.\n"
          ]
        }
      ],
      "source": [
        "if 'modelo' in carro:\n",
        "    print(\"A chave 'cor' existe no dicionário.\")\n",
        "else:\n",
        "    print(\"A chave 'cor' não existe no dicionário.\")"
      ]
    },
    {
      "cell_type": "markdown",
      "metadata": {
        "id": "Zpqnxu2ReBZH"
      },
      "source": [
        "15. Itere sobre as chaves do dicionário e imprima cada uma delas."
      ]
    },
    {
      "cell_type": "code",
      "execution_count": 10,
      "metadata": {
        "id": "4juQCK0veA-g"
      },
      "outputs": [
        {
          "name": "stdout",
          "output_type": "stream",
          "text": [
            "marca\n",
            "modelo\n",
            "ano\n",
            "cor\n"
          ]
        }
      ],
      "source": [
        "for chave in carro.keys():\n",
        "    print(chave)"
      ]
    },
    {
      "cell_type": "markdown",
      "metadata": {
        "id": "GAoDb4pneG-j"
      },
      "source": [
        "15. Itere sobre as chaves do dicionário e imprima cada uma delas."
      ]
    },
    {
      "cell_type": "code",
      "execution_count": null,
      "metadata": {
        "id": "aqi8-PtUeGx5"
      },
      "outputs": [],
      "source": [
        "for chave in carro.keys():\n",
        "    print(chave)"
      ]
    },
    {
      "cell_type": "markdown",
      "metadata": {
        "id": "oxI3BVhteGhH"
      },
      "source": [
        "17. Crie uma função que receba uma lista e retorne a soma dos elementos."
      ]
    },
    {
      "cell_type": "code",
      "execution_count": 29,
      "metadata": {
        "id": "Ijnkd3cJeMM_"
      },
      "outputs": [
        {
          "name": "stdout",
          "output_type": "stream",
          "text": [
            "18\n"
          ]
        }
      ],
      "source": [
        "def somarLista(list):\n",
        "    soma = 0\n",
        "    for num in list:\n",
        "        soma += num\n",
        "    return soma\n",
        "\n",
        "\n",
        "print(somarLista(list))\n"
      ]
    },
    {
      "cell_type": "markdown",
      "metadata": {
        "id": "Abqc7zdfeNl7"
      },
      "source": [
        "18. Crie uma função que receba um dicionário e retorne todas as suas chaves.\n"
      ]
    },
    {
      "cell_type": "code",
      "execution_count": 32,
      "metadata": {
        "id": "ZbHQ9bipeQc3"
      },
      "outputs": [
        {
          "name": "stdout",
          "output_type": "stream",
          "text": [
            "marca\n",
            "modelo\n",
            "ano\n",
            "cor\n",
            "cor\n"
          ]
        }
      ],
      "source": [
        "def returnKeysObj(obj):\n",
        "  for key in obj.keys():\n",
        "    print(key)\n",
        "  return key\n",
        "\n",
        "\n",
        "print(returnKeysObj(carro))"
      ]
    },
    {
      "cell_type": "markdown",
      "metadata": {
        "id": "wF_R9JlDeNip"
      },
      "source": [
        "\n",
        "19. Crie uma função que receba um dicionário e imprima chave e valor em linhas separadas."
      ]
    },
    {
      "cell_type": "code",
      "execution_count": 33,
      "metadata": {
        "id": "ONvkXUDWeVX3"
      },
      "outputs": [
        {
          "name": "stdout",
          "output_type": "stream",
          "text": [
            "Chave: marca, Valor: toyota\n",
            "Chave: modelo, Valor: corolla\n",
            "Chave: ano, Valor: 2015\n",
            "Chave: cor, Valor: preto\n"
          ]
        }
      ],
      "source": [
        "def imprimir_chaves_e_valores(dicionario):\n",
        "    for chave, valor in dicionario.items():\n",
        "        print(f\"Chave: {chave}, Valor: {valor}\")\n",
        "\n",
        "\n",
        "imprimir_chaves_e_valores(carro)"
      ]
    },
    {
      "cell_type": "markdown",
      "metadata": {
        "id": "5ZSYRpJ-eM4s"
      },
      "source": [
        "20. Crie uma classe chamada Pessoa com atributos nome e idade, e um método que imprima esses dados."
      ]
    },
    {
      "cell_type": "code",
      "execution_count": 34,
      "metadata": {
        "id": "RNqpzQzdeYUG"
      },
      "outputs": [
        {
          "name": "stdout",
          "output_type": "stream",
          "text": [
            "Nome: Jose, Idade: 25\n"
          ]
        }
      ],
      "source": [
        "class Pessoa:\n",
        "    def __init__(self, nome, idade):\n",
        "        self.nome = nome\n",
        "        self.idade = idade\n",
        "\n",
        "    def imprimir_dados(self):\n",
        "        print(f\"Nome: {self.nome}, Idade: {self.idade}\")\n",
        "\n",
        "pessoa1 = Pessoa(\"Jose\", 25)\n",
        "pessoa1.imprimir_dados()"
      ]
    }
  ],
  "metadata": {
    "colab": {
      "provenance": []
    },
    "kernelspec": {
      "display_name": "Python 3",
      "name": "python3"
    },
    "language_info": {
      "codemirror_mode": {
        "name": "ipython",
        "version": 3
      },
      "file_extension": ".py",
      "mimetype": "text/x-python",
      "name": "python",
      "nbconvert_exporter": "python",
      "pygments_lexer": "ipython3",
      "version": "3.11.0"
    }
  },
  "nbformat": 4,
  "nbformat_minor": 0
}
