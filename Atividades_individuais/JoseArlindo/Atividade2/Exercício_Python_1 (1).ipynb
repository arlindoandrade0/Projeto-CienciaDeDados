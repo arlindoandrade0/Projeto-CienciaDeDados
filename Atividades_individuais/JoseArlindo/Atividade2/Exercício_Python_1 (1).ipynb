{
  "nbformat": 4,
  "nbformat_minor": 0,
  "metadata": {
    "colab": {
      "provenance": []
    },
    "kernelspec": {
      "name": "python3",
      "display_name": "Python 3"
    },
    "language_info": {
      "name": "python"
    }
  },
  "cells": [
    {
      "cell_type": "markdown",
      "source": [
        "**Exercício 1 - Aquecimento de Python para Ciência de Dados**"
      ],
      "metadata": {
        "id": "f6oYv9LEcR8T"
      }
    },
    {
      "cell_type": "markdown",
      "source": [
        "1. Imprima \"Hello, World!\" no console."
      ],
      "metadata": {
        "id": "v4GVV_w1cYEY"
      }
    },
    {
      "cell_type": "code",
      "execution_count": 1,
      "metadata": {
        "id": "dJ12k9hPcNAg",
        "colab": {
          "base_uri": "https://localhost:8080/"
        },
        "outputId": "e65babba-28fb-4120-fb85-2a014c3c7e35"
      },
      "outputs": [
        {
          "output_type": "stream",
          "name": "stdout",
          "text": [
            "Hello word\n"
          ]
        }
      ],
      "source": [
        "print(\"Hello word\")"
      ]
    },
    {
      "cell_type": "markdown",
      "source": [
        "2. Crie uma variável x com valor 10 e imprima seu valor."
      ],
      "metadata": {
        "id": "ADK7MX25ciYu"
      }
    },
    {
      "cell_type": "code",
      "source": [
        "x = 10\n",
        "\n",
        "print(x)"
      ],
      "metadata": {
        "id": "kk5h1v7ocqel",
        "colab": {
          "base_uri": "https://localhost:8080/"
        },
        "outputId": "6ba51c45-299a-45c9-bddd-de0653799ebe"
      },
      "execution_count": 43,
      "outputs": [
        {
          "output_type": "stream",
          "name": "stdout",
          "text": [
            "10\n"
          ]
        }
      ]
    },
    {
      "cell_type": "markdown",
      "source": [
        "3. Some dois números e exiba o resultado."
      ],
      "metadata": {
        "id": "bKry1Lukcq6l"
      }
    },
    {
      "cell_type": "code",
      "source": [
        "num1 = 15\n",
        "num2= 30\n",
        "soma = num1 + num2\n",
        "print (soma)"
      ],
      "metadata": {
        "id": "S6IyQT4Lc2vf",
        "colab": {
          "base_uri": "https://localhost:8080/"
        },
        "outputId": "e6402c40-44e3-4319-d5af-18eca07bbedf"
      },
      "execution_count": 4,
      "outputs": [
        {
          "output_type": "stream",
          "name": "stdout",
          "text": [
            "45\n"
          ]
        }
      ]
    },
    {
      "cell_type": "markdown",
      "source": [
        "4. Verifique se um número é par ou ímpar.\n"
      ],
      "metadata": {
        "id": "6BG1PN9Qc3VA"
      }
    },
    {
      "cell_type": "code",
      "source": [
        "numero = 7\n",
        "\n",
        "if numero % 2 == 0:\n",
        "    print(f\"{numero} é par\")\n",
        "else:\n",
        "    print(f\"{numero} é ímpar\")"
      ],
      "metadata": {
        "id": "K6NLPZoRc7ov",
        "colab": {
          "base_uri": "https://localhost:8080/"
        },
        "outputId": "736369c3-a1b2-43d8-e4d5-68dabe901840"
      },
      "execution_count": 37,
      "outputs": [
        {
          "output_type": "stream",
          "name": "stdout",
          "text": [
            "7 é ímpar\n"
          ]
        }
      ]
    },
    {
      "cell_type": "markdown",
      "source": [
        "5. Crie uma função que receba dois números e retorne a soma deles."
      ],
      "metadata": {
        "id": "5dKg-xpvc4xs"
      }
    },
    {
      "cell_type": "code",
      "source": [
        "def somar (a, b):\n",
        "  return a + b\n",
        "\n",
        "  resultado = somar( 5, 3)\n",
        "  print(\"A soma é:\", resultado)"
      ],
      "metadata": {
        "id": "iv1-9Zytc4S3"
      },
      "execution_count": 17,
      "outputs": []
    },
    {
      "cell_type": "markdown",
      "source": [
        "6. Crie uma lista com os números de 1 a 5 e imprima-a.\n"
      ],
      "metadata": {
        "id": "zsdBZtyjc_62"
      }
    },
    {
      "cell_type": "code",
      "source": [
        "lista = [1 , 2, 3, 4, 5]\n",
        "print(lista)"
      ],
      "metadata": {
        "id": "xGgkwH7jdCh-",
        "colab": {
          "base_uri": "https://localhost:8080/"
        },
        "outputId": "45aa4dfb-f7bf-49ee-a1bf-be6f92d40290"
      },
      "execution_count": 19,
      "outputs": [
        {
          "output_type": "stream",
          "name": "stdout",
          "text": [
            "[1, 2, 3, 4, 5]\n"
          ]
        }
      ]
    },
    {
      "cell_type": "markdown",
      "source": [
        "7. Adicione o número 6 à lista criada na questão anterior.\n"
      ],
      "metadata": {
        "id": "snUAe4qddFsm"
      }
    },
    {
      "cell_type": "code",
      "source": [
        "lista = [1 , 2, 3, 4, 5]\n",
        "\n",
        "lista.append(6)\n",
        "print(lista)"
      ],
      "metadata": {
        "id": "QVpSgy7FdGk9",
        "colab": {
          "base_uri": "https://localhost:8080/"
        },
        "outputId": "36dd5192-3f1a-4598-89b2-ea0ccd9e359f"
      },
      "execution_count": 21,
      "outputs": [
        {
          "output_type": "stream",
          "name": "stdout",
          "text": [
            "[1, 2, 3, 4, 5, 6]\n"
          ]
        }
      ]
    },
    {
      "cell_type": "markdown",
      "source": [
        "8. Remova o número 3 da lista."
      ],
      "metadata": {
        "id": "4HT4BfD1dI8f"
      }
    },
    {
      "cell_type": "code",
      "source": [
        "lista = [1 , 2, 3, 4, 5, 6]\n",
        "\n",
        "lista.remove(3)\n",
        "print(lista)"
      ],
      "metadata": {
        "id": "QCCxAurPdKjB",
        "colab": {
          "base_uri": "https://localhost:8080/"
        },
        "outputId": "777931a1-b903-4e2c-91ad-b9a4ed185290"
      },
      "execution_count": 22,
      "outputs": [
        {
          "output_type": "stream",
          "name": "stdout",
          "text": [
            "[1, 2, 4, 5, 6]\n"
          ]
        }
      ]
    },
    {
      "cell_type": "markdown",
      "source": [
        "9. Acesse o terceiro elemento da lista."
      ],
      "metadata": {
        "id": "RyI_EEltdMZt"
      }
    },
    {
      "cell_type": "code",
      "source": [
        "lista = [1, 2, 4, 5, 6]\n",
        "\n",
        "terceiro_elemento = lista[2]\n",
        "\n",
        "print(terceiro_elemento)"
      ],
      "metadata": {
        "id": "HIkSUt_EdOSD",
        "colab": {
          "base_uri": "https://localhost:8080/"
        },
        "outputId": "abc036f8-85c8-4b96-ad93-4ecdcd747bbb"
      },
      "execution_count": 23,
      "outputs": [
        {
          "output_type": "stream",
          "name": "stdout",
          "text": [
            "4\n"
          ]
        }
      ]
    },
    {
      "cell_type": "markdown",
      "source": [
        "10. Imprima o tamanho da lista."
      ],
      "metadata": {
        "id": "yQjJYNSsdQUI"
      }
    },
    {
      "cell_type": "code",
      "source": [
        "lista = [1, 2, 4, 5, 6]\n",
        "\n",
        "tamanho = len (lista)\n",
        "\n",
        "print(\"o tamanho da lista é:\", tamanho)"
      ],
      "metadata": {
        "id": "Nz1jOedbdTR-",
        "colab": {
          "base_uri": "https://localhost:8080/"
        },
        "outputId": "232629dc-d7f8-47a5-a5aa-88fdda662146"
      },
      "execution_count": 24,
      "outputs": [
        {
          "output_type": "stream",
          "name": "stdout",
          "text": [
            "o tamanho da lista é: 5\n"
          ]
        }
      ]
    },
    {
      "cell_type": "markdown",
      "source": [
        "11. Crie um dicionário com informações de um carro (marca, modelo, ano)."
      ],
      "metadata": {
        "id": "2gm3RaRKdyCg"
      }
    },
    {
      "cell_type": "code",
      "source": [
        "carro = {\n",
        "    \"Marca\": \"Chevrolet\",\n",
        "    \"modelo\": \"Onix Plus\",\n",
        "    \"ano\": \"2024\"\n",
        "}\n",
        "\n",
        "print(carro)"
      ],
      "metadata": {
        "id": "gL_Svemid1kG",
        "colab": {
          "base_uri": "https://localhost:8080/"
        },
        "outputId": "17dab936-6ac2-4376-aebc-776438a46397"
      },
      "execution_count": 25,
      "outputs": [
        {
          "output_type": "stream",
          "name": "stdout",
          "text": [
            "{'Marca': 'Chevrolet', 'modelo': 'Onix Plus', 'ano': '2024'}\n"
          ]
        }
      ]
    },
    {
      "cell_type": "markdown",
      "source": [
        "12. Acesse o valor associado à chave \"marca\" no dicionário."
      ],
      "metadata": {
        "id": "ng6tNEYtd0hE"
      }
    },
    {
      "cell_type": "code",
      "source": [
        "carro = {\n",
        "    \"Marca\": \"Chevrolet\",\n",
        "    \"modelo\": \"Onix Plus\",\n",
        "    \"ano\": \"2024\"\n",
        "}\n",
        "marca_do_carro = carro[\"Marca\"]\n",
        "print(\"A marca do carro é:\", marca_do_carro)"
      ],
      "metadata": {
        "id": "VPDbrV6Ad0Pn",
        "colab": {
          "base_uri": "https://localhost:8080/"
        },
        "outputId": "43eed8ba-4fee-4560-8e09-de03abbe72d9"
      },
      "execution_count": 30,
      "outputs": [
        {
          "output_type": "stream",
          "name": "stdout",
          "text": [
            "A marca do carro é: Chevrolet\n"
          ]
        }
      ]
    },
    {
      "cell_type": "markdown",
      "source": [
        "13. Adicione uma nova chave \"cor\" com valor \"preto\" ao dicionário."
      ],
      "metadata": {
        "id": "Ov93hI7Td7c9"
      }
    },
    {
      "cell_type": "code",
      "source": [
        "carro = {\n",
        "    \"Marca\": \"Chevrolet\",\n",
        "    \"modelo\": \"Onix Plus\",\n",
        "    \"ano\": \"2024\"\n",
        "}\n",
        "carro[\"cor\"] = \"azul\"\n",
        "print(carro)"
      ],
      "metadata": {
        "id": "TrQLLfpid69U",
        "colab": {
          "base_uri": "https://localhost:8080/"
        },
        "outputId": "8ce9a793-78e8-48bb-8a9e-e3f8ad02c0e6"
      },
      "execution_count": 31,
      "outputs": [
        {
          "output_type": "stream",
          "name": "stdout",
          "text": [
            "{'Marca': 'Chevrolet', 'modelo': 'Onix Plus', 'ano': '2024', 'cor': 'azul'}\n"
          ]
        }
      ]
    },
    {
      "cell_type": "markdown",
      "source": [
        "14. Verifique se a chave \"modelo\" existe no dicionário.\n"
      ],
      "metadata": {
        "id": "b_5cOma2d9LP"
      }
    },
    {
      "cell_type": "code",
      "source": [
        "carro[\"cor\"] = \"preto\"\n",
        "if \"modelo\" in carro:\n",
        "  print(\"Existe\")\n",
        "else:\n",
        "  print(\"Não existe\")"
      ],
      "metadata": {
        "id": "DUMaXPQYd8bM",
        "colab": {
          "base_uri": "https://localhost:8080/"
        },
        "outputId": "2a437644-8be4-4e31-d699-8733d6ea3e98"
      },
      "execution_count": 35,
      "outputs": [
        {
          "output_type": "stream",
          "name": "stdout",
          "text": [
            "Existe\n"
          ]
        }
      ]
    },
    {
      "cell_type": "markdown",
      "source": [
        "15. Itere sobre as chaves do dicionário e imprima cada uma delas."
      ],
      "metadata": {
        "id": "Zpqnxu2ReBZH"
      }
    },
    {
      "cell_type": "code",
      "source": [
        "carro = {\n",
        "    \"Marca\": \"Chevrolet\",\n",
        "    \"modelo\": \"Onix Plus\",\n",
        "    \"ano\": \"2024\",\n",
        "    \"cor\": \"azul\"\n",
        "}\n",
        "\n",
        "\n",
        "for chave in carro:\n",
        "    print(chave)"
      ],
      "metadata": {
        "id": "4juQCK0veA-g",
        "colab": {
          "base_uri": "https://localhost:8080/"
        },
        "outputId": "033dc9d7-6beb-4ff2-a572-2d55c7cfb27d"
      },
      "execution_count": 38,
      "outputs": [
        {
          "output_type": "stream",
          "name": "stdout",
          "text": [
            "marca\n",
            "modelo\n",
            "ano\n",
            "cor\n"
          ]
        }
      ]
    },
    {
      "cell_type": "markdown",
      "source": [
        "15. Itere sobre as chaves do dicionário e imprima cada uma delas."
      ],
      "metadata": {
        "id": "GAoDb4pneG-j"
      }
    },
    {
      "cell_type": "code",
      "source": [],
      "metadata": {
        "id": "aqi8-PtUeGx5"
      },
      "execution_count": null,
      "outputs": []
    },
    {
      "cell_type": "markdown",
      "source": [
        "17. Crie uma função que receba uma lista e retorne a soma dos elementos."
      ],
      "metadata": {
        "id": "oxI3BVhteGhH"
      }
    },
    {
      "cell_type": "code",
      "source": [
        "def somar_elementos(lista):\n",
        "    return sum(lista)\n",
        "\n",
        "\n",
        "numeros = [1, 2, 3, 4, 5]\n",
        "resultado = somar_elementos(numeros)\n",
        "print(\"A soma dos elementos é:\", resultado)"
      ],
      "metadata": {
        "id": "Ijnkd3cJeMM_",
        "colab": {
          "base_uri": "https://localhost:8080/"
        },
        "outputId": "9a8c32f2-6ed2-4bae-8d15-74303f0e0170"
      },
      "execution_count": 39,
      "outputs": [
        {
          "output_type": "stream",
          "name": "stdout",
          "text": [
            "A soma dos elementos é: 15\n"
          ]
        }
      ]
    },
    {
      "cell_type": "markdown",
      "source": [
        "18. Crie uma função que receba um dicionário e retorne todas as suas chaves.\n"
      ],
      "metadata": {
        "id": "Abqc7zdfeNl7"
      }
    },
    {
      "cell_type": "code",
      "source": [
        "def obter_chaves(dicionario):\n",
        "    return list(dicionario.keys())\n",
        "\n",
        "\n",
        "carro = {\n",
        "    \"Marca\": \"Chevrolet\",\n",
        "    \"modelo\": \"Onix Plus\",\n",
        "    \"ano\": \"2024\",\n",
        "    \"cor\": \"azul\"\n",
        "}\n",
        "\n",
        "chaves_do_carro = obter_chaves(carro)\n",
        "print(\"As chaves do dicionário são:\", chaves_do_carro)\n"
      ],
      "metadata": {
        "id": "ZbHQ9bipeQc3",
        "colab": {
          "base_uri": "https://localhost:8080/"
        },
        "outputId": "69920f30-59e7-4cbf-e93b-50eb87fed85f"
      },
      "execution_count": 40,
      "outputs": [
        {
          "output_type": "stream",
          "name": "stdout",
          "text": [
            "As chaves do dicionário são: ['marca', 'modelo', 'ano', 'cor']\n"
          ]
        }
      ]
    },
    {
      "cell_type": "markdown",
      "source": [
        "\n",
        "19. Crie uma função que receba um dicionário e imprima chave e valor em linhas separadas."
      ],
      "metadata": {
        "id": "wF_R9JlDeNip"
      }
    },
    {
      "cell_type": "code",
      "source": [
        "def imprimir_chaves_e_valores(dicionario):\n",
        "    for chave, valor in dicionario.items():\n",
        "        print(f\"Chave: {chave}, Valor: {valor}\")\n",
        "\n",
        "# Exemplo de uso:\n",
        "carro = {\n",
        "    \"Marca\": \"Chevrolet\",\n",
        "    \"modelo\": \"Onix Plus\",\n",
        "    \"ano\": \"2024\",\n",
        "    \"cor\": \"azul\"\n",
        "}\n",
        "\n",
        "imprimir_chaves_e_valores(carro)\n"
      ],
      "metadata": {
        "id": "ONvkXUDWeVX3",
        "colab": {
          "base_uri": "https://localhost:8080/"
        },
        "outputId": "57be7e8a-2d84-433d-dcda-fbc1f4b74ed2"
      },
      "execution_count": 41,
      "outputs": [
        {
          "output_type": "stream",
          "name": "stdout",
          "text": [
            "Chave: Marca, Valor: Chevrolet\n",
            "Chave: modelo, Valor: Onix Plus\n",
            "Chave: ano, Valor: 2024\n",
            "Chave: cor, Valor: azul\n"
          ]
        }
      ]
    },
    {
      "cell_type": "markdown",
      "source": [
        "20. Crie uma classe chamada Pessoa com atributos nome e idade, e um método que imprima esses dados."
      ],
      "metadata": {
        "id": "5ZSYRpJ-eM4s"
      }
    },
    {
      "cell_type": "code",
      "source": [
        "class Pessoa:\n",
        "    def __init__(self, nome, idade):\n",
        "        self.nome = nome\n",
        "        self.idade = idade\n",
        "\n",
        "    def imprimir_dados(self):\n",
        "        print(f\"Nome: {self.nome}, Idade: {self.idade}\")\n",
        "\n",
        "# Exemplo de uso:\n",
        "pessoa1 = Pessoa(\"Jose\", 25)\n",
        "pessoa1.imprimir_dados()\n"
      ],
      "metadata": {
        "id": "RNqpzQzdeYUG",
        "colab": {
          "base_uri": "https://localhost:8080/"
        },
        "outputId": "3caa7f6e-2898-42b1-9d4b-311ed552203c"
      },
      "execution_count": 42,
      "outputs": [
        {
          "output_type": "stream",
          "name": "stdout",
          "text": [
            "Nome: Jose, Idade: 25\n"
          ]
        }
      ]
    }
  ]
}